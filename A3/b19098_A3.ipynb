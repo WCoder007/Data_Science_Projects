{
 "metadata": {
  "language_info": {
   "codemirror_mode": {
    "name": "ipython",
    "version": 3
   },
   "file_extension": ".py",
   "mimetype": "text/x-python",
   "name": "python",
   "nbconvert_exporter": "python",
   "pygments_lexer": "ipython3",
   "version": "3.8.6-final"
  },
  "orig_nbformat": 2,
  "kernelspec": {
   "name": "Python 3.8.6 64-bit",
   "display_name": "Python 3.8.6 64-bit",
   "metadata": {
    "interpreter": {
     "hash": "367e6972d65ae487d92095e8727d863cd77dc375a755d0258ddb917d777bfd92"
    }
   }
  }
 },
 "nbformat": 4,
 "nbformat_minor": 2,
 "cells": [
  {
   "cell_type": "code",
   "execution_count": 4,
   "metadata": {},
   "outputs": [
    {
     "output_type": "execute_result",
     "data": {
      "text/plain": [
       "<bound method NDFrame.describe of           dates stationid  temperature  ...  lightavgw/o0  lightmax  moisture\n",
       "0    08-07-2018       t10     25.46875  ...        5.5000      4000    0.0000\n",
       "1    09-07-2018       t10     26.19298  ...       11.8448      4000    5.6930\n",
       "2    10-07-2018       t10     25.17021  ...        8.7692      4000    6.8511\n",
       "3    11-07-2018       t10     24.29851  ...        8.8358      4000    6.0373\n",
       "4    12-07-2018       t10     24.06923  ...      274.6232      4333   31.2385\n",
       "..          ...       ...          ...  ...           ...       ...       ...\n",
       "940  21-11-2018        t9     16.65926  ...     5521.1231     47460   54.4222\n",
       "941  22-11-2018        t9     15.52482  ...     5521.1231     47460   54.5674\n",
       "942  23-11-2018        t9     15.81560  ...     5521.1231     47460   54.8794\n",
       "943  24-11-2018        t9     16.58571  ...     5521.1231     47460   55.0286\n",
       "944  25-11-2018        t9     17.90000  ...     5783.7581     47460   55.3400\n",
       "\n",
       "[945 rows x 9 columns]>"
      ]
     },
     "metadata": {},
     "execution_count": 4
    }
   ],
   "source": [
    "import pandas as pd\n",
    "import matplotlib.pyplot as plt\n",
    "import numpy as np\n",
    "df=pd.read_csv('landslide_data3 (1).csv') \n",
    "df.describe"
   ]
  },
  {
   "cell_type": "code",
   "execution_count": null,
   "metadata": {},
   "outputs": [],
   "source": []
  }
 ]
}