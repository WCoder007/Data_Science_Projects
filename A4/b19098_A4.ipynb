{
 "metadata": {
  "language_info": {
   "codemirror_mode": {
    "name": "ipython",
    "version": 3
   },
   "file_extension": ".py",
   "mimetype": "text/x-python",
   "name": "python",
   "nbconvert_exporter": "python",
   "pygments_lexer": "ipython3",
   "version": "3.8.6-final"
  },
  "orig_nbformat": 2,
  "kernelspec": {
   "name": "Python 3.8.6 64-bit",
   "display_name": "Python 3.8.6 64-bit",
   "metadata": {
    "interpreter": {
     "hash": "367e6972d65ae487d92095e8727d863cd77dc375a755d0258ddb917d777bfd92"
    }
   }
  }
 },
 "nbformat": 4,
 "nbformat_minor": 2,
 "cells": [
  {
   "cell_type": "code",
   "execution_count": 25,
   "metadata": {},
   "outputs": [],
   "source": [
    "import pandas as pd\n",
    "import numpy as np\n",
    "import matplotlib.pyplot as plt\n",
    "from sklearn.decomposition import PCA\n",
    "from sklearn.model_selection import train_test_split\n",
    "df=pd.read_csv('seismic_bumps1.csv')\n",
    "x_label=df['class']\n",
    "y = x_label  #for convenience \n",
    "x=df.drop('class',axis=1)\n",
    "x_train,x_test,y_train,y_test=train_test_split(x,y,test_size=0.3,random_state=42, shuffle=True)\n",
    "train = pd.concat((x_train, y_train), axis = 1)\n",
    "test = pd.concat((x_test, y_test), axis = 1)\n",
    "df.to_csv('seismic-bumps-train.csv')\n",
    "df.to_csv('seismic-bumps-test.csv')"
   ]
  }
 ]
}