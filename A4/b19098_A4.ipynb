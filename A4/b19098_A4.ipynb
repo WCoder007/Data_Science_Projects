{
 "metadata": {
  "language_info": {
   "codemirror_mode": {
    "name": "ipython",
    "version": 3
   },
   "file_extension": ".py",
   "mimetype": "text/x-python",
   "name": "python",
   "nbconvert_exporter": "python",
   "pygments_lexer": "ipython3",
   "version": "3.8.6-final"
  },
  "orig_nbformat": 2,
  "kernelspec": {
   "name": "Python 3.8.6 64-bit",
   "display_name": "Python 3.8.6 64-bit",
   "metadata": {
    "interpreter": {
     "hash": "367e6972d65ae487d92095e8727d863cd77dc375a755d0258ddb917d777bfd92"
    }
   }
  }
 },
 "nbformat": 4,
 "nbformat_minor": 2,
 "cells": [
  {
   "cell_type": "code",
   "execution_count": 65,
   "metadata": {},
   "outputs": [
    {
     "output_type": "stream",
     "name": "stdout",
     "text": [
      "Question 1:\na & b:\nConfusion matrix for k = 1\n[[675  48]\n [ 47   6]]\nAccuracy Score is 0.8775773195876289 \n\nConfusion matrix for k = 3\n[[708  15]\n [ 51   2]]\nAccuracy Score is 0.9149484536082474 \n\nConfusion matrix for k = 5\n[[716   7]\n [ 52   1]]\nAccuracy Score is 0.9239690721649485 \n\nQuestion 2:\n"
     ]
    }
   ],
   "source": [
    "import pandas as pd\n",
    "import numpy as np\n",
    "import matplotlib.pyplot as plt\n",
    "from sklearn.decomposition import PCA\n",
    "from sklearn.model_selection import train_test_split\n",
    "from sklearn.metrics import confusion_matrix\n",
    "from sklearn.metrics import accuracy_score\n",
    "from sklearn.neighbors import KNeighborsClassifier\n",
    "#1\n",
    "print('Question 1:')\n",
    "df=pd.read_csv('seismic_bumps.csv')\n",
    "#dropping 8 columns as most values are 0 and are giving singular cov matrix\n",
    "df1=df.drop(df.loc[:,'nbumps':'nbumps89'].columns,axis = 1) \n",
    "x_label=df['class']\n",
    "y = x_label  #for convenience \n",
    "x=df1.drop(['class'],axis = 1)\n",
    "x_train,x_test,y_train,y_test=train_test_split(x,y,test_size=0.3,random_state=42, shuffle=True)\n",
    "train = pd.concat((x_train, y_train), axis = 1)\n",
    "test = pd.concat((x_test, y_test), axis = 1)\n",
    "train.to_csv('seismic-bumps-train.csv')\n",
    "test.to_csv('seismic-bumps-test.csv')\n",
    "# a & b\n",
    "print('a & b:')\n",
    "for k in range(1,6,2):\n",
    "    knn1 = KNeighborsClassifier(n_neighbors=k)\n",
    "    knn1.fit(x_train, y_train)\n",
    "    y_pred = knn1.predict(x_test)\n",
    "    print('Confusion matrix for k =', k)\n",
    "    print(confusion_matrix(y_test, y_pred))\n",
    "    a = accuracy_score(y_test, y_pred)\n",
    "    print(\"Accuracy Score is\",a,'\\n')\n",
    "    \n",
    "#2\n",
    "print('Question 2:')\n",
    "#Min_Max Normalization exluding class attribute\n",
    "x_trainnormal=((x_train-x_train.min())/(x_train.max()-x_train.min()))*(1-0)+0 \n",
    "train_normal = pd.concat((x_trainnormal,y_train),axis = 1) #included class attribute\n",
    "#Min_Max Normalization of test data using min, max of train dataset\n",
    "x_testnormal=((x_test-x_train.min())/(x_train.max()-x_train.min()))*(1-0)+0\n",
    "test_normal = pd.concat((x_testnormal,y_test),axis = 1)\n",
    "\n",
    "train_normal.to_csv('seismic-bumps-train-Normalised.csv')\n",
    "test_normal.to_csv(' seismic-bumps-test-normalised.csv')\n",
    "\n",
    "\n"
   ]
  },
  {
   "cell_type": "code",
   "execution_count": null,
   "metadata": {},
   "outputs": [],
   "source": []
  }
 ]
}